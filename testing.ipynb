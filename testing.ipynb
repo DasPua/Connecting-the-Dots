{
 "cells": [
  {
   "cell_type": "code",
   "execution_count": 6,
   "id": "1736da28-a3a3-43a2-a0b7-79c983aae677",
   "metadata": {},
   "outputs": [
    {
     "name": "stdout",
     "output_type": "stream",
     "text": [
      "Collecting easyocr\n",
      "  Using cached easyocr-1.7.2-py3-none-any.whl.metadata (10 kB)\n",
      "Requirement already satisfied: torch in c:\\users\\91637\\appdata\\local\\programs\\python\\python312\\lib\\site-packages (from easyocr) (2.4.1)\n",
      "Requirement already satisfied: torchvision>=0.5 in c:\\users\\91637\\appdata\\local\\programs\\python\\python312\\lib\\site-packages (from easyocr) (0.19.1)\n",
      "Collecting opencv-python-headless (from easyocr)\n",
      "  Using cached opencv_python_headless-4.12.0.88-cp37-abi3-win_amd64.whl.metadata (20 kB)\n",
      "Requirement already satisfied: scipy in c:\\users\\91637\\appdata\\local\\programs\\python\\python312\\lib\\site-packages (from easyocr) (1.13.1)\n",
      "Requirement already satisfied: numpy in c:\\users\\91637\\appdata\\local\\programs\\python\\python312\\lib\\site-packages (from easyocr) (1.26.4)\n",
      "Requirement already satisfied: Pillow in c:\\users\\91637\\appdata\\local\\programs\\python\\python312\\lib\\site-packages (from easyocr) (11.1.0)\n",
      "Collecting scikit-image (from easyocr)\n",
      "  Using cached scikit_image-0.25.2-cp312-cp312-win_amd64.whl.metadata (14 kB)\n",
      "Collecting python-bidi (from easyocr)\n",
      "  Using cached python_bidi-0.6.6-cp312-cp312-win_amd64.whl.metadata (5.0 kB)\n",
      "Requirement already satisfied: PyYAML in c:\\users\\91637\\appdata\\local\\programs\\python\\python312\\lib\\site-packages (from easyocr) (6.0.1)\n",
      "Collecting Shapely (from easyocr)\n",
      "  Using cached shapely-2.1.1-cp312-cp312-win_amd64.whl.metadata (7.0 kB)\n",
      "Collecting pyclipper (from easyocr)\n",
      "  Using cached pyclipper-1.3.0.post6-cp312-cp312-win_amd64.whl.metadata (9.2 kB)\n",
      "Collecting ninja (from easyocr)\n",
      "  Using cached ninja-1.11.1.4-py3-none-win_amd64.whl.metadata (5.0 kB)\n",
      "Requirement already satisfied: filelock in c:\\users\\91637\\appdata\\local\\programs\\python\\python312\\lib\\site-packages (from torch->easyocr) (3.15.3)\n",
      "Requirement already satisfied: typing-extensions>=4.8.0 in c:\\users\\91637\\appdata\\local\\programs\\python\\python312\\lib\\site-packages (from torch->easyocr) (4.12.2)\n",
      "Requirement already satisfied: sympy in c:\\users\\91637\\appdata\\local\\programs\\python\\python312\\lib\\site-packages (from torch->easyocr) (1.12.1)\n",
      "Requirement already satisfied: networkx in c:\\users\\91637\\appdata\\local\\programs\\python\\python312\\lib\\site-packages (from torch->easyocr) (3.3)\n",
      "Requirement already satisfied: jinja2 in c:\\users\\91637\\appdata\\local\\programs\\python\\python312\\lib\\site-packages (from torch->easyocr) (3.1.4)\n",
      "Requirement already satisfied: fsspec in c:\\users\\91637\\appdata\\local\\programs\\python\\python312\\lib\\site-packages (from torch->easyocr) (2024.6.0)\n",
      "Requirement already satisfied: setuptools in c:\\users\\91637\\appdata\\local\\programs\\python\\python312\\lib\\site-packages (from torch->easyocr) (70.0.0)\n",
      "Collecting numpy (from easyocr)\n",
      "  Using cached numpy-2.2.6-cp312-cp312-win_amd64.whl.metadata (60 kB)\n",
      "Collecting imageio!=2.35.0,>=2.33 (from scikit-image->easyocr)\n",
      "  Using cached imageio-2.37.0-py3-none-any.whl.metadata (5.2 kB)\n",
      "Collecting tifffile>=2022.8.12 (from scikit-image->easyocr)\n",
      "  Using cached tifffile-2025.6.11-py3-none-any.whl.metadata (32 kB)\n",
      "Requirement already satisfied: packaging>=21 in c:\\users\\91637\\appdata\\local\\programs\\python\\python312\\lib\\site-packages (from scikit-image->easyocr) (24.1)\n",
      "Collecting lazy-loader>=0.4 (from scikit-image->easyocr)\n",
      "  Using cached lazy_loader-0.4-py3-none-any.whl.metadata (7.6 kB)\n",
      "Requirement already satisfied: MarkupSafe>=2.0 in c:\\users\\91637\\appdata\\local\\programs\\python\\python312\\lib\\site-packages (from jinja2->torch->easyocr) (2.1.5)\n",
      "Requirement already satisfied: mpmath<1.4.0,>=1.1.0 in c:\\users\\91637\\appdata\\local\\programs\\python\\python312\\lib\\site-packages (from sympy->torch->easyocr) (1.3.0)\n",
      "Using cached easyocr-1.7.2-py3-none-any.whl (2.9 MB)\n",
      "Using cached ninja-1.11.1.4-py3-none-win_amd64.whl (296 kB)\n",
      "Using cached opencv_python_headless-4.12.0.88-cp37-abi3-win_amd64.whl (38.9 MB)\n",
      "Using cached numpy-2.2.6-cp312-cp312-win_amd64.whl (12.6 MB)\n",
      "Using cached pyclipper-1.3.0.post6-cp312-cp312-win_amd64.whl (110 kB)\n",
      "Using cached python_bidi-0.6.6-cp312-cp312-win_amd64.whl (160 kB)\n",
      "Using cached scikit_image-0.25.2-cp312-cp312-win_amd64.whl (12.9 MB)\n",
      "Using cached shapely-2.1.1-cp312-cp312-win_amd64.whl (1.7 MB)\n",
      "Using cached imageio-2.37.0-py3-none-any.whl (315 kB)\n",
      "Using cached lazy_loader-0.4-py3-none-any.whl (12 kB)\n",
      "Using cached tifffile-2025.6.11-py3-none-any.whl (230 kB)\n",
      "Installing collected packages: python-bidi, pyclipper, numpy, ninja, lazy-loader, tifffile, Shapely, opencv-python-headless, imageio, scikit-image, easyocr\n",
      "  Attempting uninstall: numpy\n",
      "    Found existing installation: numpy 1.26.4\n",
      "    Uninstalling numpy-1.26.4:\n",
      "      Successfully uninstalled numpy-1.26.4\n",
      "Successfully installed Shapely-2.1.1 easyocr-1.7.2 imageio-2.37.0 lazy-loader-0.4 ninja-1.11.1.4 numpy-2.2.6 opencv-python-headless-4.12.0.88 pyclipper-1.3.0.post6 python-bidi-0.6.6 scikit-image-0.25.2 tifffile-2025.6.11\n"
     ]
    },
    {
     "name": "stderr",
     "output_type": "stream",
     "text": [
      "ERROR: pip's dependency resolver does not currently take into account all the packages that are installed. This behaviour is the source of the following dependency conflicts.\n",
      "streamlit 1.21.0 requires pandas<2,>=0.25, but you have pandas 2.2.3 which is incompatible.\n",
      "tensorflow-intel 2.16.1 requires numpy<2.0.0,>=1.26.0; python_version >= \"3.12\", but you have numpy 2.2.6 which is incompatible.\n",
      "\n",
      "[notice] A new release of pip is available: 24.3.1 -> 25.1.1\n",
      "[notice] To update, run: python.exe -m pip install --upgrade pip\n"
     ]
    },
    {
     "name": "stdout",
     "output_type": "stream",
     "text": [
      "Requirement already satisfied: pymupdf in c:\\users\\91637\\appdata\\local\\programs\\python\\python312\\lib\\site-packages (1.26.3)\n"
     ]
    },
    {
     "name": "stderr",
     "output_type": "stream",
     "text": [
      "\n",
      "[notice] A new release of pip is available: 24.3.1 -> 25.1.1\n",
      "[notice] To update, run: python.exe -m pip install --upgrade pip\n"
     ]
    }
   ],
   "source": [
    "!pip install easyocr\n",
    "!pip install pymupdf"
   ]
  },
  {
   "cell_type": "code",
   "execution_count": 3,
   "id": "b88499bc-9de3-40c3-b523-72ce422f82af",
   "metadata": {},
   "outputs": [
    {
     "name": "stdout",
     "output_type": "stream",
     "text": [
      "Collecting PyMuPDF\n",
      "  Using cached pymupdf-1.26.3-cp39-abi3-win_amd64.whl.metadata (3.4 kB)\n",
      "Using cached pymupdf-1.26.3-cp39-abi3-win_amd64.whl (18.7 MB)\n",
      "Installing collected packages: PyMuPDF\n",
      "Successfully installed PyMuPDF-1.26.3\n"
     ]
    },
    {
     "name": "stderr",
     "output_type": "stream",
     "text": [
      "\n",
      "[notice] A new release of pip is available: 24.3.1 -> 25.1.1\n",
      "[notice] To update, run: python.exe -m pip install --upgrade pip\n"
     ]
    }
   ],
   "source": [
    "!pip install PyMuPDF"
   ]
  },
  {
   "cell_type": "code",
   "execution_count": 4,
   "id": "b3db4f37-3901-49f3-9fdf-27b5ff6a7d80",
   "metadata": {},
   "outputs": [],
   "source": [
    "dataset_path = \"./input_files\""
   ]
  },
  {
   "cell_type": "code",
   "execution_count": 5,
   "id": "94b26597-58e1-4171-9d16-392a5980c442",
   "metadata": {},
   "outputs": [
    {
     "ename": "ModuleNotFoundError",
     "evalue": "No module named 'easyocr'",
     "output_type": "error",
     "traceback": [
      "\u001b[1;31m---------------------------------------------------------------------------\u001b[0m",
      "\u001b[1;31mModuleNotFoundError\u001b[0m                       Traceback (most recent call last)",
      "Cell \u001b[1;32mIn[5], line 3\u001b[0m\n\u001b[0;32m      1\u001b[0m \u001b[38;5;28;01mimport\u001b[39;00m \u001b[38;5;21;01mfitz\u001b[39;00m\n\u001b[0;32m      2\u001b[0m \u001b[38;5;28;01mimport\u001b[39;00m \u001b[38;5;21;01mos\u001b[39;00m\n\u001b[1;32m----> 3\u001b[0m \u001b[38;5;28;01mimport\u001b[39;00m \u001b[38;5;21;01measyocr\u001b[39;00m\n",
      "\u001b[1;31mModuleNotFoundError\u001b[0m: No module named 'easyocr'"
     ]
    }
   ],
   "source": [
    "import fitz\n",
    "import os\n",
    "import easyocr"
   ]
  },
  {
   "cell_type": "code",
   "execution_count": null,
   "id": "1e115de9-575c-41d8-80d9-5dc9eceb570a",
   "metadata": {},
   "outputs": [],
   "source": []
  }
 ],
 "metadata": {
  "kernelspec": {
   "display_name": "Python 3 (ipykernel)",
   "language": "python",
   "name": "python3"
  },
  "language_info": {
   "codemirror_mode": {
    "name": "ipython",
    "version": 3
   },
   "file_extension": ".py",
   "mimetype": "text/x-python",
   "name": "python",
   "nbconvert_exporter": "python",
   "pygments_lexer": "ipython3",
   "version": "3.12.4"
  }
 },
 "nbformat": 4,
 "nbformat_minor": 5
}
